{
 "cells": [
  {
   "cell_type": "markdown",
   "id": "intro",
   "metadata": {},
   "source": [
    "# AMR Gene Detection Demo\n",
    "\n",
    "Compare bacterial DNA sequences against a small catalog of antimicrobial resistance (AMR) genes."
   ]
  },
  {
   "cell_type": "code",
   "execution_count": null,
   "id": "sys-path",
   "metadata": {},
   "outputs": [],
   "source": [
    "from pathlib import Path\n",
    "import sys\n",
    "\n",
    "PROJECT_ROOT = Path(\"..\").resolve()\n",
    "if str(PROJECT_ROOT) not in sys.path:\n",
    "    sys.path.append(str(PROJECT_ROOT))"
   ]
  },
  {
   "cell_type": "code",
   "execution_count": null,
   "id": "imports",
   "metadata": {},
   "outputs": [],
   "source": [
    "from src.report_generator import generate_report, save_report\n",
    "\n",
    "from IPython.display import display"
   ]
  },
  {
   "cell_type": "code",
   "execution_count": null,
   "id": "generate",
   "metadata": {},
   "outputs": [],
   "source": [
    "FASTA_PATH = PROJECT_ROOT / \"data\" / \"sample_sequences.fasta\"\n",
    "REFERENCE_CSV = PROJECT_ROOT / \"data\" / \"resistance_genes_reference.csv\"\n",
    "\n",
    "report_df = generate_report(FASTA_PATH, REFERENCE_CSV)\n",
    "display(report_df)"
   ]
  },
  {
   "cell_type": "code",
   "execution_count": null,
   "id": "save",
   "metadata": {},
   "outputs": [],
   "source": [
    "OUTPUT_CSV = PROJECT_ROOT / \"data\" / \"amr_matches_report.csv\"\n",
    "save_report(report_df, OUTPUT_CSV)\n",
    "print(f\"Report saved to: {OUTPUT_CSV.resolve()}\")"
   ]
  }
 ],
 "metadata": {
  "kernelspec": {
   "display_name": "Python 3",
   "language": "python",
   "name": "python3"
  },
  "language_info": {
   "name": "python",
   "version": ""
  }
 },
 "nbformat": 4,
 "nbformat_minor": 5
}
